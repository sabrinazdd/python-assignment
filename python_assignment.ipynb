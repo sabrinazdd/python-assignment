{
 "cells": [
  {
   "cell_type": "markdown",
   "metadata": {},
   "source": [
    "# python assignment"
   ]
  },
  {
   "cell_type": "markdown",
   "metadata": {},
   "source": [
    "# 1. Document Dr. X's function with comments and with markdown text "
   ]
  },
  {
   "cell_type": "code",
   "execution_count": 1,
   "metadata": {},
   "outputs": [],
   "source": [
    "from Bio import SeqIO\n",
    "from Bio.Data import CodonTable\n",
    "import pandas as pd"
   ]
  },
  {
   "cell_type": "code",
   "execution_count": 2,
   "metadata": {},
   "outputs": [],
   "source": [
    "def get_sequences_from_file(fasta_fn): # define a function in python to get sequences from a file \n",
    "    sequence_data_dict = {} # creat a dictionary with species_name as key and a string of sequences as value\n",
    "    for record in SeqIO.parse(fasta_fn, \"fasta\"): # use parse function in Biopython to loop through each individual record to get the information from description\n",
    "        description = record.description.split() # to split or seperate the word in description\n",
    "        species_name = description[1] + \" \" + description[2] # extract the first and second word in description as species name\n",
    "        sequence_data_dict[species_name] = record.seq # set each key the corresponding sequence as value\n",
    "    return(sequence_data_dict) # print out the created dictionary"
   ]
  },
  {
   "cell_type": "code",
   "execution_count": 3,
   "metadata": {},
   "outputs": [],
   "source": [
    "bear_dna = get_sequences_from_file(\"bears_cytb.fasta\") # test the defined function of getting sequences from fasta file"
   ]
  },
  {
   "cell_type": "code",
   "execution_count": 4,
   "metadata": {},
   "outputs": [
    {
     "data": {
      "text/plain": [
       "{'Ursus spelaeus': Seq('ATGACCAACATCCGAAAAACCCATCCATTAGCTAAAATCATCAACAACTCATTT...AGA', SingleLetterAlphabet()),\n",
       " 'Ursus arctos': Seq('ATGACCAACATCCGAAAAACCCACCCATTAGCTAAAATCATCAACAACTCACTT...AGA', SingleLetterAlphabet()),\n",
       " 'Ursus thibetanus': Seq('ATGACCAACATCCGAAAAACCCATCCATTAGCCAAAATCATCAACAACTCACTC...AGA', SingleLetterAlphabet()),\n",
       " 'Melursus ursinus': Seq('ATGACCAACATCCGAAAAACCCACCCATTAGCTAAAATCATTAACAACTCACTC...AGA', SingleLetterAlphabet()),\n",
       " 'Ursus americanus': Seq('ATGACCAACATCCGAAAAACCCACCCATTAGCTAAAATCATCAACAACTCACTT...AGA', SingleLetterAlphabet()),\n",
       " 'Helarctos malayanus': Seq('ATGACCAACATCCGAAAAACCCACCCATTAGCTAAAATCATTAACAACTCACTT...AGA', SingleLetterAlphabet()),\n",
       " 'Ailuropoda melanoleuca': Seq('ATGATCAACATCCGAAAAACTCATCCATTAGTTAAAATTATCAACAACTCATTC...AGA', SingleLetterAlphabet()),\n",
       " 'Tremarctos ornatus': Seq('ATGACCAACATCCGAAAAACTCACCCACTAGCTAAAATCATCAACAGCTCATTC...AGA', SingleLetterAlphabet()),\n",
       " 'Ursus maritimus': Seq('ATGACCAACATCCGAAAAACCCACCCATTAGCTAAAATCATCAACAACTCATTT...AGA', SingleLetterAlphabet())}"
      ]
     },
     "execution_count": 4,
     "metadata": {},
     "output_type": "execute_result"
    }
   ],
   "source": [
    "bear_dna"
   ]
  },
  {
   "cell_type": "markdown",
   "metadata": {},
   "source": [
    "# 2 Write a function that translates a string of nucleotides to amino acids based on Dr. X's pseudo-code suggestion."
   ]
  },
  {
   "cell_type": "code",
   "execution_count": 5,
   "metadata": {},
   "outputs": [],
   "source": [
    "def translate_function(string_nucleotides): # define a function in python to translate nucleotides to amino acids\n",
    "    mito_table = CodonTable.unambiguous_dna_by_name[\"Vertebrate Mitochondrial\"] # get the vertebrate mitochondrial codon table for translation\n",
    "    aa_seq_string = \"\" # set up a string of amino aicds for upcoming protein translation\n",
    "    stop = string_nucleotides.find('TAA')|string_nucleotides.find('TAG')|string_nucleotides.find('AGA')|string_nucleotides.find('AGG') # define the stop codon\n",
    "    cds = str(string_nucleotides[0:stop]) # define coding region for transltion: from the beginning to the end when meeting with stop codon\n",
    "    for i in range (0, len(string_nucleotides),3): # set up the trinucleotides as a range to read through\n",
    "        if cds[i:i+3] in mito_table.forward_table: # match the trinucleotides to the codons in mito_table for translation\n",
    "            aa_seq_string += mito_table.forward_table[cds[i:i+3]] # start and keep translation until meeting stop codon\n",
    "    return(aa_seq_string) # print out the translated protein sequences"
   ]
  },
  {
   "cell_type": "code",
   "execution_count": 6,
   "metadata": {},
   "outputs": [
    {
     "data": {
      "text/plain": [
       "'MYYT'"
      ]
     },
     "execution_count": 6,
     "metadata": {},
     "output_type": "execute_result"
    }
   ],
   "source": [
    "dd = translate_function('ATGTACTACACTAGA') # test the defined translate function\n",
    "dd"
   ]
  },
  {
   "cell_type": "markdown",
   "metadata": {},
   "source": [
    "# 3 Alternative way to translate DNA into Protein"
   ]
  },
  {
   "cell_type": "code",
   "execution_count": 7,
   "metadata": {},
   "outputs": [],
   "source": [
    "from Bio.Seq import Seq\n",
    "from Bio.Alphabet import IUPAC\n",
    "def my_translate_function(n_strings): # define my own translate function\n",
    "    mito_table = CodonTable.unambiguous_dna_by_name[\"Vertebrate Mitochondrial\"] # use the vertebrate mitochondrial codon table for translation\n",
    "    my_seq = Seq(n_strings, IUPAC.unambiguous_dna) # set a nucleotide Seq format for translation\n",
    "    p_strings = my_seq.translate(table=mito_table,to_stop=True) # use \"translate\" function in Seq to translate the formatted nucleotides into protein\n",
    "    return(p_strings) # print out the amino acids sequence after translation"
   ]
  },
  {
   "cell_type": "code",
   "execution_count": 8,
   "metadata": {},
   "outputs": [
    {
     "data": {
      "text/plain": [
       "Seq('IT', IUPACProtein())"
      ]
     },
     "execution_count": 8,
     "metadata": {},
     "output_type": "execute_result"
    }
   ],
   "source": [
    "my_translate_function(\"ATCACC\") # test the defined translate function"
   ]
  },
  {
   "cell_type": "markdown",
   "metadata": {},
   "source": [
    "# 4 Write a function that calculates the molecular weight of each amino acid sequence"
   ]
  },
  {
   "cell_type": "code",
   "execution_count": 9,
   "metadata": {},
   "outputs": [],
   "source": [
    "from Bio.Seq import Seq\n",
    "from Bio.SeqUtils import molecular_weight\n",
    "from Bio.Alphabet import IUPAC\n",
    "def aa_molecular_weight(aa_strings): # define a function to calculate molecular weight for protein sequence\n",
    "    aa_seq = Seq(aa_strings, IUPAC.protein) # set a Seq amino acid sequence format for calculating molecular weight\n",
    "    aa_weight = molecular_weight(aa_seq) # use the \"molecular_weight\" function in SeqUtils to calculate molecular weight\n",
    "    return (aa_weight) # print out the molecular weight of protein sequence"
   ]
  },
  {
   "cell_type": "code",
   "execution_count": 10,
   "metadata": {},
   "outputs": [
    {
     "data": {
      "text/plain": [
       "592.6231"
      ]
     },
     "execution_count": 10,
     "metadata": {},
     "output_type": "execute_result"
    }
   ],
   "source": [
    "aa_molecular_weight(\"ATGACGGG\") # test the defined molecular weigth calculation function"
   ]
  },
  {
   "cell_type": "markdown",
   "metadata": {},
   "source": [
    "# 5. Write a function that computes the GC-content of each DNA sequence"
   ]
  },
  {
   "cell_type": "code",
   "execution_count": 11,
   "metadata": {},
   "outputs": [],
   "source": [
    "from Bio.SeqUtils import GC\n",
    "def GC_Content(n_strings): # define a function to calculate GC percentage for given nucleotide sequences\n",
    "    my_seq = Seq(n_strings, IUPAC.unambiguous_dna) # set a nucleotide Seq format for GC concent calculation\n",
    "    GC_percent = GC(my_seq) # use \"GC\" function in SeqUtils to calculate GC concent\n",
    "    return (GC_percent) # print out GC concent"
   ]
  },
  {
   "cell_type": "code",
   "execution_count": 12,
   "metadata": {},
   "outputs": [
    {
     "data": {
      "text/plain": [
       "53.333333333333336"
      ]
     },
     "execution_count": 12,
     "metadata": {},
     "output_type": "execute_result"
    }
   ],
   "source": [
    "GC_Content(\"ATGACCAGGGTTTCC\") # test the defined GC concent calculation function"
   ]
  },
  {
   "cell_type": "markdown",
   "metadata": {},
   "source": [
    "# 6. Add two new columns to the bears DataFrame: (1) molecular weight and (2) GC content"
   ]
  },
  {
   "cell_type": "code",
   "execution_count": 13,
   "metadata": {},
   "outputs": [],
   "source": [
    "cytb_seq = get_sequences_from_file('bears_cytb.fasta') # get the sequences from fasta file and save them in a dictionary with species name as the key and sequences as value \n",
    "bears_df = pd.read_csv(\"bears_mass.csv\") # read the csv file into a dataframe\n",
    "bears_df['molecular_weight'] = \"NaN\" # add a new column (with the name molecular_weight) to the dataframe and set the value as NaN\n",
    "bears_df['GC_content'] = \"NaN\" # add a new column (with the name GC_content) to the dataframe and set the value as NaN"
   ]
  },
  {
   "cell_type": "code",
   "execution_count": 14,
   "metadata": {},
   "outputs": [
    {
     "data": {
      "text/html": [
       "<div>\n",
       "<style scoped>\n",
       "    .dataframe tbody tr th:only-of-type {\n",
       "        vertical-align: middle;\n",
       "    }\n",
       "\n",
       "    .dataframe tbody tr th {\n",
       "        vertical-align: top;\n",
       "    }\n",
       "\n",
       "    .dataframe thead th {\n",
       "        text-align: right;\n",
       "    }\n",
       "</style>\n",
       "<table border=\"1\" class=\"dataframe\">\n",
       "  <thead>\n",
       "    <tr style=\"text-align: right;\">\n",
       "      <th></th>\n",
       "      <th>species</th>\n",
       "      <th>mass</th>\n",
       "      <th>molecular_weight</th>\n",
       "      <th>GC_content</th>\n",
       "    </tr>\n",
       "  </thead>\n",
       "  <tbody>\n",
       "    <tr>\n",
       "      <th>0</th>\n",
       "      <td>Ursus spelaeus</td>\n",
       "      <td>550.800</td>\n",
       "      <td>NaN</td>\n",
       "      <td>NaN</td>\n",
       "    </tr>\n",
       "    <tr>\n",
       "      <th>1</th>\n",
       "      <td>Ursus arctos</td>\n",
       "      <td>203.500</td>\n",
       "      <td>NaN</td>\n",
       "      <td>NaN</td>\n",
       "    </tr>\n",
       "    <tr>\n",
       "      <th>2</th>\n",
       "      <td>Ursus thibetanus</td>\n",
       "      <td>99.714</td>\n",
       "      <td>NaN</td>\n",
       "      <td>NaN</td>\n",
       "    </tr>\n",
       "    <tr>\n",
       "      <th>3</th>\n",
       "      <td>Melursus ursinus</td>\n",
       "      <td>100.030</td>\n",
       "      <td>NaN</td>\n",
       "      <td>NaN</td>\n",
       "    </tr>\n",
       "    <tr>\n",
       "      <th>4</th>\n",
       "      <td>Ursus americanus</td>\n",
       "      <td>110.560</td>\n",
       "      <td>NaN</td>\n",
       "      <td>NaN</td>\n",
       "    </tr>\n",
       "    <tr>\n",
       "      <th>5</th>\n",
       "      <td>Helarctos malayanus</td>\n",
       "      <td>47.020</td>\n",
       "      <td>NaN</td>\n",
       "      <td>NaN</td>\n",
       "    </tr>\n",
       "    <tr>\n",
       "      <th>6</th>\n",
       "      <td>Ailuropoda melanoleuca</td>\n",
       "      <td>118.200</td>\n",
       "      <td>NaN</td>\n",
       "      <td>NaN</td>\n",
       "    </tr>\n",
       "    <tr>\n",
       "      <th>7</th>\n",
       "      <td>Tremarctos ornatus</td>\n",
       "      <td>140.700</td>\n",
       "      <td>NaN</td>\n",
       "      <td>NaN</td>\n",
       "    </tr>\n",
       "    <tr>\n",
       "      <th>8</th>\n",
       "      <td>Ursus maritimus</td>\n",
       "      <td>425.100</td>\n",
       "      <td>NaN</td>\n",
       "      <td>NaN</td>\n",
       "    </tr>\n",
       "  </tbody>\n",
       "</table>\n",
       "</div>"
      ],
      "text/plain": [
       "                  species     mass molecular_weight GC_content\n",
       "0          Ursus spelaeus  550.800              NaN        NaN\n",
       "1            Ursus arctos  203.500              NaN        NaN\n",
       "2        Ursus thibetanus   99.714              NaN        NaN\n",
       "3        Melursus ursinus  100.030              NaN        NaN\n",
       "4        Ursus americanus  110.560              NaN        NaN\n",
       "5     Helarctos malayanus   47.020              NaN        NaN\n",
       "6  Ailuropoda melanoleuca  118.200              NaN        NaN\n",
       "7      Tremarctos ornatus  140.700              NaN        NaN\n",
       "8         Ursus maritimus  425.100              NaN        NaN"
      ]
     },
     "execution_count": 14,
     "metadata": {},
     "output_type": "execute_result"
    }
   ],
   "source": [
    "bears_df # check the dataframe to see if 2 columns with values as NaN have been appended to the dataframe"
   ]
  },
  {
   "cell_type": "markdown",
   "metadata": {},
   "source": [
    "# 7. Call your functions from step 3 (or step 2) and step 4 and 5 and fill in the new columns in the DataFrame"
   ]
  },
  {
   "cell_type": "code",
   "execution_count": 15,
   "metadata": {},
   "outputs": [],
   "source": [
    "for index, row in bears_df.iterrows(): # to loop through dataframe with iterrows() function\n",
    "    species_list = row ['species'] # extract the names of the key for cytb_seq dictionary\n",
    "    n_seq = cytb_seq[species_list] # use the names of the key to extract the corresponding nucleotide sequence\n",
    "    bears_df.loc[index,'molecular_weight'] = aa_molecular_weight (str(my_translate_function(str(n_seq)))) # use the 2 defined function to translate and calculate protein molecular weight \n",
    "    bears_df.loc[index,'GC_content'] = GC_Content(str(n_seq)) # use the defined function to calculate GC content and then put them into the dataframe"
   ]
  },
  {
   "cell_type": "code",
   "execution_count": 16,
   "metadata": {},
   "outputs": [
    {
     "data": {
      "text/html": [
       "<div>\n",
       "<style scoped>\n",
       "    .dataframe tbody tr th:only-of-type {\n",
       "        vertical-align: middle;\n",
       "    }\n",
       "\n",
       "    .dataframe tbody tr th {\n",
       "        vertical-align: top;\n",
       "    }\n",
       "\n",
       "    .dataframe thead th {\n",
       "        text-align: right;\n",
       "    }\n",
       "</style>\n",
       "<table border=\"1\" class=\"dataframe\">\n",
       "  <thead>\n",
       "    <tr style=\"text-align: right;\">\n",
       "      <th></th>\n",
       "      <th>species</th>\n",
       "      <th>mass</th>\n",
       "      <th>molecular_weight</th>\n",
       "      <th>GC_content</th>\n",
       "    </tr>\n",
       "  </thead>\n",
       "  <tbody>\n",
       "    <tr>\n",
       "      <th>0</th>\n",
       "      <td>Ursus spelaeus</td>\n",
       "      <td>550.800</td>\n",
       "      <td>42458.8</td>\n",
       "      <td>43.7719</td>\n",
       "    </tr>\n",
       "    <tr>\n",
       "      <th>1</th>\n",
       "      <td>Ursus arctos</td>\n",
       "      <td>203.500</td>\n",
       "      <td>42414.7</td>\n",
       "      <td>43.7719</td>\n",
       "    </tr>\n",
       "    <tr>\n",
       "      <th>2</th>\n",
       "      <td>Ursus thibetanus</td>\n",
       "      <td>99.714</td>\n",
       "      <td>42306.7</td>\n",
       "      <td>45.614</td>\n",
       "    </tr>\n",
       "    <tr>\n",
       "      <th>3</th>\n",
       "      <td>Melursus ursinus</td>\n",
       "      <td>100.030</td>\n",
       "      <td>42552</td>\n",
       "      <td>45.1754</td>\n",
       "    </tr>\n",
       "    <tr>\n",
       "      <th>4</th>\n",
       "      <td>Ursus americanus</td>\n",
       "      <td>110.560</td>\n",
       "      <td>42427.7</td>\n",
       "      <td>43.9474</td>\n",
       "    </tr>\n",
       "    <tr>\n",
       "      <th>5</th>\n",
       "      <td>Helarctos malayanus</td>\n",
       "      <td>47.020</td>\n",
       "      <td>42560.9</td>\n",
       "      <td>44.2982</td>\n",
       "    </tr>\n",
       "    <tr>\n",
       "      <th>6</th>\n",
       "      <td>Ailuropoda melanoleuca</td>\n",
       "      <td>118.200</td>\n",
       "      <td>42702.2</td>\n",
       "      <td>40.7895</td>\n",
       "    </tr>\n",
       "    <tr>\n",
       "      <th>7</th>\n",
       "      <td>Tremarctos ornatus</td>\n",
       "      <td>140.700</td>\n",
       "      <td>42384.8</td>\n",
       "      <td>44.386</td>\n",
       "    </tr>\n",
       "    <tr>\n",
       "      <th>8</th>\n",
       "      <td>Ursus maritimus</td>\n",
       "      <td>425.100</td>\n",
       "      <td>42454.8</td>\n",
       "      <td>44.2982</td>\n",
       "    </tr>\n",
       "  </tbody>\n",
       "</table>\n",
       "</div>"
      ],
      "text/plain": [
       "                  species     mass molecular_weight GC_content\n",
       "0          Ursus spelaeus  550.800          42458.8    43.7719\n",
       "1            Ursus arctos  203.500          42414.7    43.7719\n",
       "2        Ursus thibetanus   99.714          42306.7     45.614\n",
       "3        Melursus ursinus  100.030            42552    45.1754\n",
       "4        Ursus americanus  110.560          42427.7    43.9474\n",
       "5     Helarctos malayanus   47.020          42560.9    44.2982\n",
       "6  Ailuropoda melanoleuca  118.200          42702.2    40.7895\n",
       "7      Tremarctos ornatus  140.700          42384.8     44.386\n",
       "8         Ursus maritimus  425.100          42454.8    44.2982"
      ]
     },
     "execution_count": 16,
     "metadata": {},
     "output_type": "execute_result"
    }
   ],
   "source": [
    "bears_df"
   ]
  },
  {
   "cell_type": "markdown",
   "metadata": {},
   "source": [
    "# 8. Plot a bar-chart of adult body mass per species. In your description of the graph, provide text that answers these questions: \n",
    "##     a. What is the largest bear species? \n",
    "##     b. What else is interesting about this species?"
   ]
  },
  {
   "cell_type": "code",
   "execution_count": 17,
   "metadata": {},
   "outputs": [
    {
     "data": {
      "text/plain": [
       "<matplotlib.axes._subplots.AxesSubplot at 0x11eaf3be0>"
      ]
     },
     "execution_count": 17,
     "metadata": {},
     "output_type": "execute_result"
    }
   ],
   "source": [
    "import matplotlib.pyplot as plt\n",
    "bears_mass = bears_df[['species','mass']] # subset 2 columns and save them to a new dataframe for bar plot\n",
    "mass_plot = bears_mass.plot(kind='bar', title='adult body mass per species',color='pink') # generate bar plot \n",
    "mass_plot.set_ylabel(\"Body Mass\") # set y axis as \"Body Mass\"\n",
    "mass_plot.set_xlabel(\"Species\") # set x axis as \"Species\"\n",
    "mass_plot.set_xticklabels(bears_mass['species']) # specify x marks as species name\n",
    "mass_plot # display bar plot\n",
    "\n",
    "# Q: what is the largest bear species? A: Ursus spelaeus\n",
    "# what else is interesting about this species? A: Ursus spelaeus is a species of bear that became extinct about\n",
    "# 24,000 years ago during the Last Glacial Maximum "
   ]
  },
  {
   "cell_type": "markdown",
   "metadata": {},
   "source": [
    "# 9 Plot a graph that shows the molecular weight as a function of GC content"
   ]
  },
  {
   "cell_type": "code",
   "execution_count": 18,
   "metadata": {},
   "outputs": [
    {
     "data": {
      "text/plain": [
       "<seaborn.axisgrid.FacetGrid at 0x11f2cb550>"
      ]
     },
     "execution_count": 18,
     "metadata": {},
     "output_type": "execute_result"
    },
    {
     "data": {
      "image/png": "[encoded data removed]",
      "text/plain": [
       "<Figure size 805.125x432 with 1 Axes>"
      ]
     },
     "metadata": {
      "needs_background": "light"
     },
     "output_type": "display_data"
    }
   ],
   "source": [
    "import matplotlib.pyplot as plt\n",
    "import seaborn as sns\n",
    "sns.lmplot(\"GC_content\",\"molecular_weight\", data=bears_df, fit_reg = False, height=6, aspect=1.5,scatter_kws={'s':50}, hue = 'species' )"
   ]
  },
  {
   "cell_type": "markdown",
   "metadata": {},
   "source": [
    "# 10  Write the entire DataFrame to a new CSV file that includes your new columns"
   ]
  },
  {
   "cell_type": "code",
   "execution_count": 19,
   "metadata": {},
   "outputs": [],
   "source": [
    "bears_df.to_csv(\"bears_data.csv\", sep=',', index=False) # write dataframe to csv file"
   ]
  },
  {
   "cell_type": "code",
   "execution_count": 20,
   "metadata": {},
   "outputs": [
    {
     "data": {
      "text/html": [
       "<div>\n",
       "<style scoped>\n",
       "    .dataframe tbody tr th:only-of-type {\n",
       "        vertical-align: middle;\n",
       "    }\n",
       "\n",
       "    .dataframe tbody tr th {\n",
       "        vertical-align: top;\n",
       "    }\n",
       "\n",
       "    .dataframe thead th {\n",
       "        text-align: right;\n",
       "    }\n",
       "</style>\n",
       "<table border=\"1\" class=\"dataframe\">\n",
       "  <thead>\n",
       "    <tr style=\"text-align: right;\">\n",
       "      <th></th>\n",
       "      <th>species</th>\n",
       "      <th>mass</th>\n",
       "      <th>molecular_weight</th>\n",
       "      <th>GC_content</th>\n",
       "    </tr>\n",
       "  </thead>\n",
       "  <tbody>\n",
       "    <tr>\n",
       "      <th>0</th>\n",
       "      <td>Ursus spelaeus</td>\n",
       "      <td>550.800</td>\n",
       "      <td>42458.7992</td>\n",
       "      <td>43.771930</td>\n",
       "    </tr>\n",
       "    <tr>\n",
       "      <th>1</th>\n",
       "      <td>Ursus arctos</td>\n",
       "      <td>203.500</td>\n",
       "      <td>42414.7435</td>\n",
       "      <td>43.771930</td>\n",
       "    </tr>\n",
       "    <tr>\n",
       "      <th>2</th>\n",
       "      <td>Ursus thibetanus</td>\n",
       "      <td>99.714</td>\n",
       "      <td>42306.6735</td>\n",
       "      <td>45.614035</td>\n",
       "    </tr>\n",
       "    <tr>\n",
       "      <th>3</th>\n",
       "      <td>Melursus ursinus</td>\n",
       "      <td>100.030</td>\n",
       "      <td>42551.9900</td>\n",
       "      <td>45.175439</td>\n",
       "    </tr>\n",
       "    <tr>\n",
       "      <th>4</th>\n",
       "      <td>Ursus americanus</td>\n",
       "      <td>110.560</td>\n",
       "      <td>42427.7439</td>\n",
       "      <td>43.947368</td>\n",
       "    </tr>\n",
       "    <tr>\n",
       "      <th>5</th>\n",
       "      <td>Helarctos malayanus</td>\n",
       "      <td>47.020</td>\n",
       "      <td>42560.8910</td>\n",
       "      <td>44.298246</td>\n",
       "    </tr>\n",
       "    <tr>\n",
       "      <th>6</th>\n",
       "      <td>Ailuropoda melanoleuca</td>\n",
       "      <td>118.200</td>\n",
       "      <td>42702.1845</td>\n",
       "      <td>40.789474</td>\n",
       "    </tr>\n",
       "    <tr>\n",
       "      <th>7</th>\n",
       "      <td>Tremarctos ornatus</td>\n",
       "      <td>140.700</td>\n",
       "      <td>42384.8266</td>\n",
       "      <td>44.385965</td>\n",
       "    </tr>\n",
       "    <tr>\n",
       "      <th>8</th>\n",
       "      <td>Ursus maritimus</td>\n",
       "      <td>425.100</td>\n",
       "      <td>42454.7873</td>\n",
       "      <td>44.298246</td>\n",
       "    </tr>\n",
       "  </tbody>\n",
       "</table>\n",
       "</div>"
      ],
      "text/plain": [
       "                  species     mass  molecular_weight  GC_content\n",
       "0          Ursus spelaeus  550.800        42458.7992   43.771930\n",
       "1            Ursus arctos  203.500        42414.7435   43.771930\n",
       "2        Ursus thibetanus   99.714        42306.6735   45.614035\n",
       "3        Melursus ursinus  100.030        42551.9900   45.175439\n",
       "4        Ursus americanus  110.560        42427.7439   43.947368\n",
       "5     Helarctos malayanus   47.020        42560.8910   44.298246\n",
       "6  Ailuropoda melanoleuca  118.200        42702.1845   40.789474\n",
       "7      Tremarctos ornatus  140.700        42384.8266   44.385965\n",
       "8         Ursus maritimus  425.100        42454.7873   44.298246"
      ]
     },
     "execution_count": 20,
     "metadata": {},
     "output_type": "execute_result"
    }
   ],
   "source": [
    "pd.read_csv('bears_data.csv') # read the csv file and check if the csv file was correctly created"
   ]
  },
  {
   "cell_type": "code",
   "execution_count": null,
   "metadata": {},
   "outputs": [],
   "source": []
  }
 ],
 "metadata": {
  "kernelspec": {
   "display_name": "Python 3",
   "language": "python",
   "name": "python3"
  },
  "language_info": {
   "codemirror_mode": {
    "name": "ipython",
    "version": 3
   },
   "file_extension": ".py",
   "mimetype": "text/x-python",
   "name": "python",
   "nbconvert_exporter": "python",
   "pygments_lexer": "ipython3",
   "version": "3.7.0"
  }
 },
 "nbformat": 4,
 "nbformat_minor": 2
}
